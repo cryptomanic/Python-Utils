{
 "cells": [
  {
   "cell_type": "markdown",
   "metadata": {},
   "source": [
    "# Virtual Environment with Jupyter"
   ]
  },
  {
   "cell_type": "markdown",
   "metadata": {},
   "source": [
    "### Create a virtual environment\n",
    "<pre><font color=\"#8AE234\"><b>cryptomanic@cryptomanic</b></font>:<font color=\"#729FCF\"><b>~</b></font>$ python3 -m venv MyVenv</pre>"
   ]
  },
  {
   "cell_type": "markdown",
   "metadata": {},
   "source": [
    "### Activate the virtual environment\n",
    "<pre><font color=\"#8AE234\"><b>cryptomanic@cryptomanic</b></font>:<font color=\"#729FCF\"><b>~</b></font>$ source MyVenv/bin/activate</pre>"
   ]
  },
  {
   "cell_type": "markdown",
   "metadata": {},
   "source": [
    "### Install required package in the environment\n",
    "<pre>(MyVenv) <font color=\"#8AE234\"><b>cryptomanic@cryptomanic</b></font>:<font color=\"#729FCF\"><b>~</b></font>$ pip install ipykernel</pre>"
   ]
  },
  {
   "cell_type": "markdown",
   "metadata": {},
   "source": [
    "### Create kernel that corresponds to the virtual environment\n",
    "<pre>(MyVenv) <font color=\"#8AE234\"><b>cryptomanic@cryptomanic</b></font>:<font color=\"#729FCF\"><b>~</b></font>$ python -m ipykernel install --user --name=MyVenv</pre>"
   ]
  },
  {
   "cell_type": "markdown",
   "metadata": {},
   "source": [
    "### Output of previous command is the location where kernel.json lies\n",
    "#### Installed kernelspec MyVenv in /home/cryptomanic/.local/share/jupyter/kernels/myvenv\n",
    "\n",
    "<pre>(MyVenv) <font color=\"#8AE234\"><b>cryptomanic@cryptomanic</b></font>:<font color=\"#729FCF\"><b>~</b></font>$ cat /home/cryptomanic/.local/share/jupyter/kernels/myvenv/kernel.json \n",
    "{\n",
    " &quot;argv&quot;: [\n",
    "  &quot;/home/cryptomanic/MyVenv/bin/python&quot;,\n",
    "  &quot;-m&quot;,\n",
    "  &quot;ipykernel_launcher&quot;,\n",
    "  &quot;-f&quot;,\n",
    "  &quot;{connection_file}&quot;\n",
    " ],\n",
    " &quot;display_name&quot;: &quot;MyVenv&quot;,\n",
    " &quot;language&quot;: &quot;python&quot;\n",
    "}</pre>"
   ]
  },
  {
   "cell_type": "markdown",
   "metadata": {},
   "source": [
    "### Available kernels\n",
    "<pre>(MyVenv) <font color=\"#8AE234\"><b>cryptomanic@cryptomanic</b></font>:<font color=\"#729FCF\"><b>~</b></font>$ jupyter kernelspec list\n",
    "Available kernels:\n",
    "  abra       /home/cryptomanic/.local/share/jupyter/kernels/abra\n",
    "  envname    /home/cryptomanic/.local/share/jupyter/kernels/envname\n",
    "  myenv      /home/cryptomanic/.local/share/jupyter/kernels/myenv\n",
    "  myvenv     /home/cryptomanic/.local/share/jupyter/kernels/myvenv\n",
    "  python2    /home/cryptomanic/.local/share/jupyter/kernels/python2\n",
    "  python3    /home/cryptomanic/.local/share/jupyter/kernels/python3</pre>"
   ]
  },
  {
   "cell_type": "markdown",
   "metadata": {},
   "source": [
    "### How to remove a kernel?\n",
    "<pre>(MyVenv) <font color=\"#8AE234\"><b>cryptomanic@cryptomanic</b></font>:<font color=\"#729FCF\"><b>~</b></font>$ sudo jupyter kernelspec uninstall abra\n",
    "[sudo] password for cryptomanic: \n",
    "Kernel specs to remove:\n",
    "  abra                \t/home/cryptomanic/.local/share/jupyter/kernels/abra\n",
    "Remove 1 kernel specs [y/N]: y\n",
    "[RemoveKernelSpec] Removed /home/cryptomanic/.local/share/jupyter/kernels/abra\n",
    "(MyVenv) <font color=\"#8AE234\"><b>cryptomanic@cryptomanic</b></font>:<font color=\"#729FCF\"><b>~</b></font>$ jupyter kernelspec list\n",
    "Available kernels:\n",
    "  envname    /home/cryptomanic/.local/share/jupyter/kernels/envname\n",
    "  myenv      /home/cryptomanic/.local/share/jupyter/kernels/myenv\n",
    "  myvenv     /home/cryptomanic/.local/share/jupyter/kernels/myvenv\n",
    "  python2    /home/cryptomanic/.local/share/jupyter/kernels/python2\n",
    "  python3    /home/cryptomanic/.local/share/jupyter/kernels/python3\n",
    "</pre>"
   ]
  },
  {
   "cell_type": "markdown",
   "metadata": {},
   "source": [
    "### Open jupyter notebook and choose the kernel that you have created just now"
   ]
  },
  {
   "cell_type": "markdown",
   "metadata": {},
   "source": [
    "### Installing packages in the virtual environment\n",
    "#### Method 1: from command prompt\n",
    "<pre>(MyVenv) <font color=\"#8AE234\"><b>cryptomanic@cryptomanic</b></font>:<font color=\"#729FCF\"><b>~</b></font>$ pip install pandas</pre>\n",
    "\n",
    "#### Method 2: from jupyter cell\n",
    "<pre><font color=\"#729FCF\"><b>%pip install pandas</b></font><font color=\"#729FCF\"><b></b></font></pre>\n",
    "\n",
    "#### Method 3: from jupyter cell using sys.executable\n",
    "<pre><font color=\"#729FCF\"><b>!{sys.executable} -m pip install bs4</b></font><font color=\"#729FCF\"><b></b></font></pre>"
   ]
  }
 ],
 "metadata": {
  "kernelspec": {
   "display_name": "PythonRL",
   "language": "python",
   "name": "envname"
  },
  "language_info": {
   "codemirror_mode": {
    "name": "ipython",
    "version": 3
   },
   "file_extension": ".py",
   "mimetype": "text/x-python",
   "name": "python",
   "nbconvert_exporter": "python",
   "pygments_lexer": "ipython3",
   "version": "3.6.9"
  }
 },
 "nbformat": 4,
 "nbformat_minor": 4
}
